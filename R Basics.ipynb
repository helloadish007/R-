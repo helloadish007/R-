{
 "cells": [
  {
   "cell_type": "code",
   "execution_count": 3,
   "metadata": {},
   "outputs": [
    {
     "name": "stdout",
     "output_type": "stream",
     "text": [
      "[1] \"helloworld\"\n"
     ]
    }
   ],
   "source": [
    "h<-'helloworld' #variable assignment\n",
    "print(h)#print statement"
   ]
  },
  {
   "cell_type": "code",
   "execution_count": 4,
   "metadata": {},
   "outputs": [],
   "source": [
    "#this is a comment"
   ]
  },
  {
   "cell_type": "markdown",
   "metadata": {},
   "source": [
    "### variable assignmnet in 3ways"
   ]
  },
  {
   "cell_type": "code",
   "execution_count": 5,
   "metadata": {},
   "outputs": [
    {
     "name": "stdout",
     "output_type": "stream",
     "text": [
      "[1] \"hello\"\n"
     ]
    }
   ],
   "source": [
    "name<-'hello'#leftward operator\n",
    "name='hello'#assignment operator\n",
    "'hello'->name#rightward operator\n",
    "print(name)"
   ]
  },
  {
   "cell_type": "code",
   "execution_count": 6,
   "metadata": {},
   "outputs": [
    {
     "name": "stdout",
     "output_type": "stream",
     "text": [
      "[1] 2\n"
     ]
    }
   ],
   "source": [
    "2->t\n",
    "print(t)"
   ]
  },
  {
   "cell_type": "markdown",
   "metadata": {},
   "source": [
    "### class()-->gives the datatype of a given variable"
   ]
  },
  {
   "cell_type": "code",
   "execution_count": 7,
   "metadata": {},
   "outputs": [
    {
     "data": {
      "text/html": [
       "'numeric'"
      ],
      "text/latex": [
       "'numeric'"
      ],
      "text/markdown": [
       "'numeric'"
      ],
      "text/plain": [
       "[1] \"numeric\""
      ]
     },
     "metadata": {},
     "output_type": "display_data"
    }
   ],
   "source": [
    "class(t)"
   ]
  },
  {
   "cell_type": "code",
   "execution_count": 8,
   "metadata": {},
   "outputs": [
    {
     "data": {
      "text/html": [
       "'character'"
      ],
      "text/latex": [
       "'character'"
      ],
      "text/markdown": [
       "'character'"
      ],
      "text/plain": [
       "[1] \"character\""
      ]
     },
     "metadata": {},
     "output_type": "display_data"
    }
   ],
   "source": [
    "class(name)"
   ]
  },
  {
   "cell_type": "markdown",
   "metadata": {},
   "source": [
    "### ls()-->to see the list of variables created"
   ]
  },
  {
   "cell_type": "code",
   "execution_count": 9,
   "metadata": {},
   "outputs": [
    {
     "data": {
      "text/html": [
       "<style>\n",
       ".list-inline {list-style: none; margin:0; padding: 0}\n",
       ".list-inline>li {display: inline-block}\n",
       ".list-inline>li:not(:last-child)::after {content: \"\\00b7\"; padding: 0 .5ex}\n",
       "</style>\n",
       "<ol class=list-inline><li>'h'</li><li>'name'</li><li>'t'</li></ol>\n"
      ],
      "text/latex": [
       "\\begin{enumerate*}\n",
       "\\item 'h'\n",
       "\\item 'name'\n",
       "\\item 't'\n",
       "\\end{enumerate*}\n"
      ],
      "text/markdown": [
       "1. 'h'\n",
       "2. 'name'\n",
       "3. 't'\n",
       "\n",
       "\n"
      ],
      "text/plain": [
       "[1] \"h\"    \"name\" \"t\"   "
      ]
     },
     "metadata": {},
     "output_type": "display_data"
    }
   ],
   "source": [
    "ls()"
   ]
  },
  {
   "cell_type": "markdown",
   "metadata": {},
   "source": [
    "### rm()--> deletes a variable"
   ]
  },
  {
   "cell_type": "code",
   "execution_count": 10,
   "metadata": {},
   "outputs": [],
   "source": [
    "rm(t)"
   ]
  },
  {
   "cell_type": "code",
   "execution_count": 11,
   "metadata": {},
   "outputs": [
    {
     "data": {
      "text/html": [
       "<style>\n",
       ".list-inline {list-style: none; margin:0; padding: 0}\n",
       ".list-inline>li {display: inline-block}\n",
       ".list-inline>li:not(:last-child)::after {content: \"\\00b7\"; padding: 0 .5ex}\n",
       "</style>\n",
       "<ol class=list-inline><li>'h'</li><li>'name'</li></ol>\n"
      ],
      "text/latex": [
       "\\begin{enumerate*}\n",
       "\\item 'h'\n",
       "\\item 'name'\n",
       "\\end{enumerate*}\n"
      ],
      "text/markdown": [
       "1. 'h'\n",
       "2. 'name'\n",
       "\n",
       "\n"
      ],
      "text/plain": [
       "[1] \"h\"    \"name\""
      ]
     },
     "metadata": {},
     "output_type": "display_data"
    }
   ],
   "source": [
    "ls()"
   ]
  },
  {
   "cell_type": "markdown",
   "metadata": {},
   "source": [
    "### basic datatypes\n",
    "\n",
    "### 1. vectors: a combination of values\n",
    "\n",
    "### 2.List: contain many different types of objects.\n",
    "\n",
    "### 3.Matrix: a 2d dataset\n",
    "\n",
    "### 4.Array: multidimensional dataset\n",
    "\n",
    "### 5.Factors: factors store vector along with labels\n",
    "\n",
    "### 6. Dataframe:tabular dataobjects , can have multiple types."
   ]
  },
  {
   "cell_type": "markdown",
   "metadata": {},
   "source": [
    "### arithmetic operation"
   ]
  },
  {
   "cell_type": "code",
   "execution_count": 12,
   "metadata": {},
   "outputs": [
    {
     "data": {
      "text/html": [
       "7"
      ],
      "text/latex": [
       "7"
      ],
      "text/markdown": [
       "7"
      ],
      "text/plain": [
       "[1] 7"
      ]
     },
     "metadata": {},
     "output_type": "display_data"
    }
   ],
   "source": [
    "v1<-2\n",
    "v2<-5\n",
    "v1+v2"
   ]
  },
  {
   "cell_type": "code",
   "execution_count": 13,
   "metadata": {},
   "outputs": [
    {
     "data": {
      "text/html": [
       "-3"
      ],
      "text/latex": [
       "-3"
      ],
      "text/markdown": [
       "-3"
      ],
      "text/plain": [
       "[1] -3"
      ]
     },
     "metadata": {},
     "output_type": "display_data"
    }
   ],
   "source": [
    "v1-v2"
   ]
  },
  {
   "cell_type": "code",
   "execution_count": 14,
   "metadata": {},
   "outputs": [
    {
     "data": {
      "text/html": [
       "10"
      ],
      "text/latex": [
       "10"
      ],
      "text/markdown": [
       "10"
      ],
      "text/plain": [
       "[1] 10"
      ]
     },
     "metadata": {},
     "output_type": "display_data"
    }
   ],
   "source": [
    "v1*v2"
   ]
  },
  {
   "cell_type": "code",
   "execution_count": 15,
   "metadata": {},
   "outputs": [
    {
     "data": {
      "text/html": [
       "0.4"
      ],
      "text/latex": [
       "0.4"
      ],
      "text/markdown": [
       "0.4"
      ],
      "text/plain": [
       "[1] 0.4"
      ]
     },
     "metadata": {},
     "output_type": "display_data"
    }
   ],
   "source": [
    "v1/v2"
   ]
  },
  {
   "cell_type": "markdown",
   "metadata": {},
   "source": [
    "### relational operators"
   ]
  },
  {
   "cell_type": "code",
   "execution_count": 16,
   "metadata": {},
   "outputs": [
    {
     "data": {
      "text/html": [
       "FALSE"
      ],
      "text/latex": [
       "FALSE"
      ],
      "text/markdown": [
       "FALSE"
      ],
      "text/plain": [
       "[1] FALSE"
      ]
     },
     "metadata": {},
     "output_type": "display_data"
    }
   ],
   "source": [
    "v1==v2"
   ]
  },
  {
   "cell_type": "code",
   "execution_count": 17,
   "metadata": {},
   "outputs": [
    {
     "data": {
      "text/html": [
       "TRUE"
      ],
      "text/latex": [
       "TRUE"
      ],
      "text/markdown": [
       "TRUE"
      ],
      "text/plain": [
       "[1] TRUE"
      ]
     },
     "metadata": {},
     "output_type": "display_data"
    }
   ],
   "source": [
    "v1!=v2"
   ]
  },
  {
   "cell_type": "code",
   "execution_count": 18,
   "metadata": {},
   "outputs": [
    {
     "data": {
      "text/html": [
       "FALSE"
      ],
      "text/latex": [
       "FALSE"
      ],
      "text/markdown": [
       "FALSE"
      ],
      "text/plain": [
       "[1] FALSE"
      ]
     },
     "metadata": {},
     "output_type": "display_data"
    }
   ],
   "source": [
    "v1>v2"
   ]
  },
  {
   "cell_type": "code",
   "execution_count": 19,
   "metadata": {},
   "outputs": [
    {
     "data": {
      "text/html": [
       "TRUE"
      ],
      "text/latex": [
       "TRUE"
      ],
      "text/markdown": [
       "TRUE"
      ],
      "text/plain": [
       "[1] TRUE"
      ]
     },
     "metadata": {},
     "output_type": "display_data"
    }
   ],
   "source": [
    "v1<v2"
   ]
  },
  {
   "cell_type": "code",
   "execution_count": 20,
   "metadata": {},
   "outputs": [
    {
     "data": {
      "text/html": [
       "FALSE"
      ],
      "text/latex": [
       "FALSE"
      ],
      "text/markdown": [
       "FALSE"
      ],
      "text/plain": [
       "[1] FALSE"
      ]
     },
     "metadata": {},
     "output_type": "display_data"
    }
   ],
   "source": [
    "v1>=v2"
   ]
  },
  {
   "cell_type": "code",
   "execution_count": 21,
   "metadata": {},
   "outputs": [
    {
     "data": {
      "text/html": [
       "TRUE"
      ],
      "text/latex": [
       "TRUE"
      ],
      "text/markdown": [
       "TRUE"
      ],
      "text/plain": [
       "[1] TRUE"
      ]
     },
     "metadata": {},
     "output_type": "display_data"
    }
   ],
   "source": [
    "v1<=v2"
   ]
  },
  {
   "cell_type": "markdown",
   "metadata": {},
   "source": [
    "### logical operators"
   ]
  },
  {
   "cell_type": "code",
   "execution_count": 28,
   "metadata": {},
   "outputs": [],
   "source": [
    "b<-TRUE\n",
    "bb=FALSE"
   ]
  },
  {
   "cell_type": "code",
   "execution_count": 25,
   "metadata": {},
   "outputs": [
    {
     "data": {
      "text/html": [
       "FALSE"
      ],
      "text/latex": [
       "FALSE"
      ],
      "text/markdown": [
       "FALSE"
      ],
      "text/plain": [
       "[1] FALSE"
      ]
     },
     "metadata": {},
     "output_type": "display_data"
    }
   ],
   "source": [
    "!b#not"
   ]
  },
  {
   "cell_type": "code",
   "execution_count": 29,
   "metadata": {},
   "outputs": [
    {
     "data": {
      "text/html": [
       "FALSE"
      ],
      "text/latex": [
       "FALSE"
      ],
      "text/markdown": [
       "FALSE"
      ],
      "text/plain": [
       "[1] FALSE"
      ]
     },
     "metadata": {},
     "output_type": "display_data"
    }
   ],
   "source": [
    "b & bb#and"
   ]
  },
  {
   "cell_type": "code",
   "execution_count": 30,
   "metadata": {},
   "outputs": [
    {
     "data": {
      "text/html": [
       "TRUE"
      ],
      "text/latex": [
       "TRUE"
      ],
      "text/markdown": [
       "TRUE"
      ],
      "text/plain": [
       "[1] TRUE"
      ]
     },
     "metadata": {},
     "output_type": "display_data"
    }
   ],
   "source": [
    "b |bb#or"
   ]
  },
  {
   "cell_type": "code",
   "execution_count": 34,
   "metadata": {},
   "outputs": [
    {
     "data": {
      "text/html": [
       "FALSE"
      ],
      "text/latex": [
       "FALSE"
      ],
      "text/markdown": [
       "FALSE"
      ],
      "text/plain": [
       "[1] FALSE"
      ]
     },
     "metadata": {},
     "output_type": "display_data"
    }
   ],
   "source": [
    "isTRUE(bb)#outputs the given variable is true or not"
   ]
  },
  {
   "cell_type": "code",
   "execution_count": 35,
   "metadata": {},
   "outputs": [
    {
     "data": {
      "text/html": [
       "TRUE"
      ],
      "text/latex": [
       "TRUE"
      ],
      "text/markdown": [
       "TRUE"
      ],
      "text/plain": [
       "[1] TRUE"
      ]
     },
     "metadata": {},
     "output_type": "display_data"
    }
   ],
   "source": [
    "isTRUE(b)"
   ]
  },
  {
   "cell_type": "markdown",
   "metadata": {},
   "source": [
    "### decision making statements"
   ]
  },
  {
   "cell_type": "markdown",
   "metadata": {},
   "source": [
    "### 1. if"
   ]
  },
  {
   "cell_type": "code",
   "execution_count": 39,
   "metadata": {},
   "outputs": [
    {
     "name": "stdout",
     "output_type": "stream",
     "text": [
      "[1] \"helloo!!\"\n"
     ]
    }
   ],
   "source": [
    "x=2\n",
    "if(x<4)\n",
    "{\n",
    "    print('helloo!!')\n",
    "}"
   ]
  },
  {
   "cell_type": "markdown",
   "metadata": {},
   "source": [
    "### 2.if else"
   ]
  },
  {
   "cell_type": "code",
   "execution_count": 43,
   "metadata": {},
   "outputs": [
    {
     "name": "stdout",
     "output_type": "stream",
     "text": [
      "[1] \"true\"\n"
     ]
    }
   ],
   "source": [
    "v1=10\n",
    "if(v1==10)\n",
    "{\n",
    "    print('true')\n",
    "}else    #NOTE: else statement should be written after the closing braces of if \n",
    "{\n",
    "    print('false')\n",
    "}"
   ]
  },
  {
   "cell_type": "markdown",
   "metadata": {},
   "source": [
    "### 3.switch statement"
   ]
  },
  {
   "cell_type": "code",
   "execution_count": 50,
   "metadata": {},
   "outputs": [
    {
     "data": {
      "text/html": [
       "'first'"
      ],
      "text/latex": [
       "'first'"
      ],
      "text/markdown": [
       "'first'"
      ],
      "text/plain": [
       "[1] \"first\""
      ]
     },
     "metadata": {},
     "output_type": "display_data"
    }
   ],
   "source": [
    "#switch(expression,case1,case2,....)\n",
    "x=switch(1,'first','second','third','fourth')\n",
    "x"
   ]
  },
  {
   "cell_type": "code",
   "execution_count": 52,
   "metadata": {},
   "outputs": [
    {
     "data": {
      "text/html": [
       "21"
      ],
      "text/latex": [
       "21"
      ],
      "text/markdown": [
       "21"
      ],
      "text/plain": [
       "[1] 21"
      ]
     },
     "metadata": {},
     "output_type": "display_data"
    }
   ],
   "source": [
    "c=switch('adish','adish'=21,'aneesh'=39)\n",
    "c"
   ]
  },
  {
   "cell_type": "markdown",
   "metadata": {},
   "source": [
    "### menu driven calculator using switch statement"
   ]
  },
  {
   "cell_type": "code",
   "execution_count": 65,
   "metadata": {},
   "outputs": [
    {
     "data": {
      "text/html": [
       "50"
      ],
      "text/latex": [
       "50"
      ],
      "text/markdown": [
       "50"
      ],
      "text/plain": [
       "[1] 50"
      ]
     },
     "metadata": {},
     "output_type": "display_data"
    }
   ],
   "source": [
    "v1=20\n",
    "v2=30\n",
    "operation=\"a\"\n",
    "result=switch(operation,\"a\"=v1+v2,\"s\"=v1-v2,\"m\"=v1*v2,\"d\"=v1/v2)\n",
    "result"
   ]
  },
  {
   "cell_type": "markdown",
   "metadata": {},
   "source": [
    "### loops"
   ]
  },
  {
   "cell_type": "markdown",
   "metadata": {},
   "source": [
    "### 1.for loop"
   ]
  },
  {
   "cell_type": "code",
   "execution_count": 69,
   "metadata": {},
   "outputs": [
    {
     "name": "stdout",
     "output_type": "stream",
     "text": [
      "[1] \"A\"\n",
      "[1] \"B\"\n",
      "[1] \"C\"\n"
     ]
    }
   ],
   "source": [
    "#LETTERS -->builtin keyword containing all alphabets\n",
    "x<-LETTERS[1:3]\n",
    "for (i in x) #use paranthesis in for loop\n",
    "{\n",
    "    print(i)\n",
    "}"
   ]
  },
  {
   "cell_type": "markdown",
   "metadata": {},
   "source": [
    "### 2.while loop"
   ]
  },
  {
   "cell_type": "code",
   "execution_count": 2,
   "metadata": {},
   "outputs": [
    {
     "name": "stdout",
     "output_type": "stream",
     "text": [
      "[1] 2\n",
      "[1] 1\n"
     ]
    }
   ],
   "source": [
    "count=2\n",
    "while(count>0)\n",
    "{\n",
    "  print(count)\n",
    "  count=count-1\n",
    "}"
   ]
  },
  {
   "cell_type": "markdown",
   "metadata": {},
   "source": [
    "### 3.Repeat loop\n",
    "\n",
    "- loop executes a set of statements till a terminate statement is found "
   ]
  },
  {
   "cell_type": "code",
   "execution_count": 4,
   "metadata": {},
   "outputs": [
    {
     "name": "stdout",
     "output_type": "stream",
     "text": [
      "[1] \"hello world\"\n",
      "[1] \"hello world\"\n",
      "[1] \"hello world\"\n",
      "[1] \"hello world\"\n"
     ]
    }
   ],
   "source": [
    "x='hello world'\n",
    "count=3\n",
    "repeat\n",
    "{\n",
    "    print(x)\n",
    "    count=count+1\n",
    "    if(count>6)\n",
    "        {\n",
    "        break\n",
    "    }\n",
    "}"
   ]
  },
  {
   "cell_type": "markdown",
   "metadata": {},
   "source": [
    "### Array\n",
    "\n",
    "- used to store ordered list of values of same type.\n",
    "\n",
    "## Note: here array index starts from 1\n",
    "\n",
    "- An array is created using the array() function. It takes vectors as input and uses the values in the dim parameter to create an array."
   ]
  },
  {
   "cell_type": "code",
   "execution_count": 6,
   "metadata": {},
   "outputs": [
    {
     "name": "stdout",
     "output_type": "stream",
     "text": [
      ", , 1\n",
      "\n",
      "     [,1] [,2] [,3]\n",
      "[1,]    1    3   20\n",
      "[2,]    2   10   30\n",
      "\n",
      ", , 2\n",
      "\n",
      "     [,1] [,2] [,3]\n",
      "[1,]   40   60    2\n",
      "[2,]   50    1    3\n",
      "\n"
     ]
    }
   ],
   "source": [
    "vec1=c(1,2,3)\n",
    "vec2=c(10,20,30,40,50,60)\n",
    "result=array(c(vec1,vec2),dim=c(2,3,2))#it will create 2 rectangular matrixes with 2 rows and 3 columns.\n",
    "print(result)"
   ]
  },
  {
   "cell_type": "markdown",
   "metadata": {},
   "source": [
    "### accessing elements from array"
   ]
  },
  {
   "cell_type": "code",
   "execution_count": 8,
   "metadata": {},
   "outputs": [
    {
     "name": "stdout",
     "output_type": "stream",
     "text": [
      "[1] 3\n",
      "[1] 1\n"
     ]
    }
   ],
   "source": [
    "print(result[1,2,1])#select 1st row,2nd column from the 1st matrix\n",
    "print(result[2,2,2])"
   ]
  },
  {
   "cell_type": "markdown",
   "metadata": {},
   "source": [
    "### Functions "
   ]
  },
  {
   "cell_type": "code",
   "execution_count": 9,
   "metadata": {},
   "outputs": [
    {
     "name": "stdout",
     "output_type": "stream",
     "text": [
      "[1] 2\n",
      "[1] 4\n",
      "[1] 6\n",
      "[1] 8\n",
      "[1] 10\n"
     ]
    }
   ],
   "source": [
    "f1<-function(n){   #f1 is the name of the function\n",
    "    for (i in 1:n){\n",
    "        s=i*2\n",
    "        print(s)\n",
    "    }\n",
    "}\n",
    "f1(5)"
   ]
  },
  {
   "cell_type": "markdown",
   "metadata": {},
   "source": [
    "### strings"
   ]
  },
  {
   "cell_type": "code",
   "execution_count": 12,
   "metadata": {},
   "outputs": [
    {
     "name": "stdout",
     "output_type": "stream",
     "text": [
      "[1] \"i'm having some nostalgic feelings\"\n"
     ]
    }
   ],
   "source": [
    "#valid strings\n",
    "s=\"i'm having some nostalgic feelings\"\n",
    "print(s)\n",
    "#invalid\n",
    "# c='hai\"\n",
    "# print(c)"
   ]
  },
  {
   "cell_type": "markdown",
   "metadata": {},
   "source": [
    "### paste concatenates (pastes) strings and returns a character vector\n",
    "### print prints values"
   ]
  },
  {
   "cell_type": "code",
   "execution_count": 20,
   "metadata": {},
   "outputs": [
    {
     "name": "stdout",
     "output_type": "stream",
     "text": [
      "[1] \"hello! how are you catching up?\"\n",
      "[1] \"hello!-how are you-catching up?\"\n",
      "[1] \"hello!how are youcatching up?\"\n"
     ]
    }
   ],
   "source": [
    "a=\"hello!\"\n",
    "b='how are you'\n",
    "c=\"catching up?\"\n",
    "print(paste(a,b,c))\n",
    "print(paste(a,b,c,sep='-'))\n",
    "print(paste(a,b,c,sep='',collapse=\"\"))#collapse removes space between adjacent strings"
   ]
  },
  {
   "cell_type": "markdown",
   "metadata": {},
   "source": [
    "### Vectors\n",
    "\n",
    "### most basic R objects\n",
    "\n",
    "### can only contain objects of same class\n",
    "\n",
    "### It is divided into 6 types:\n",
    "\n",
    "- Character eg:'ABC'\n",
    "- Double eg:'14.99'\n",
    "- Complex eg:'3+10i'\n",
    "- Raw eg:charToRaw('val')\n",
    "- Integer eg:33L\n",
    "- Logical eg:TRUE/FALSE\n",
    "\n"
   ]
  },
  {
   "cell_type": "code",
   "execution_count": 70,
   "metadata": {},
   "outputs": [
    {
     "name": "stdout",
     "output_type": "stream",
     "text": [
      "[1] \"abc\"\n"
     ]
    }
   ],
   "source": [
    "print('abc')#an atomic vector of character type"
   ]
  },
  {
   "cell_type": "code",
   "execution_count": 71,
   "metadata": {},
   "outputs": [
    {
     "name": "stdout",
     "output_type": "stream",
     "text": [
      "[1] 14.99\n"
     ]
    }
   ],
   "source": [
    "print(14.99)#an atomic vector of type double"
   ]
  },
  {
   "cell_type": "code",
   "execution_count": 72,
   "metadata": {},
   "outputs": [
    {
     "name": "stdout",
     "output_type": "stream",
     "text": [
      "[1] 3+10i\n"
     ]
    }
   ],
   "source": [
    "print(3+10i)#an atomic vector of type complex"
   ]
  },
  {
   "cell_type": "code",
   "execution_count": 73,
   "metadata": {},
   "outputs": [
    {
     "name": "stdout",
     "output_type": "stream",
     "text": [
      "[1] 33\n"
     ]
    }
   ],
   "source": [
    "print(33L)#an atomic vector of type integer"
   ]
  },
  {
   "cell_type": "code",
   "execution_count": 74,
   "metadata": {},
   "outputs": [
    {
     "name": "stdout",
     "output_type": "stream",
     "text": [
      "[1] TRUE\n"
     ]
    }
   ],
   "source": [
    "print(TRUE)#an atomic vector of type logical"
   ]
  },
  {
   "cell_type": "code",
   "execution_count": 75,
   "metadata": {},
   "outputs": [
    {
     "name": "stdout",
     "output_type": "stream",
     "text": [
      "[1] 68 65 6c 6c 6f\n"
     ]
    }
   ],
   "source": [
    "print(charToRaw('hello'))#an atomic vector of type raw"
   ]
  },
  {
   "cell_type": "markdown",
   "metadata": {},
   "source": [
    "### A raw vector is used to represent a \"raw\" sequence of bytes. Each byte is a value between 0 and 255. Raw vectors are printed using hexadecimal (base 16) notation,"
   ]
  },
  {
   "cell_type": "code",
   "execution_count": 76,
   "metadata": {},
   "outputs": [],
   "source": [
    "#creating vectors using c()\n",
    "v1<-c(1,2,3,4)\n",
    "v2<-c(5,6,7,8)"
   ]
  },
  {
   "cell_type": "code",
   "execution_count": 77,
   "metadata": {},
   "outputs": [
    {
     "name": "stdout",
     "output_type": "stream",
     "text": [
      "[1]  6  8 10 12\n"
     ]
    }
   ],
   "source": [
    "#vector addition\n",
    "add_result=v1+v2\n",
    "print(add_result)"
   ]
  },
  {
   "cell_type": "code",
   "execution_count": 78,
   "metadata": {},
   "outputs": [
    {
     "name": "stdout",
     "output_type": "stream",
     "text": [
      "[1] -4 -4 -4 -4\n"
     ]
    }
   ],
   "source": [
    "#vector subtraction\n",
    "sub_result=v1-v2\n",
    "print(sub_result)"
   ]
  },
  {
   "cell_type": "code",
   "execution_count": 79,
   "metadata": {},
   "outputs": [
    {
     "name": "stdout",
     "output_type": "stream",
     "text": [
      "[1]  5 12 21 32\n"
     ]
    }
   ],
   "source": [
    "#vector multiplication\n",
    "mul_result=v1*v2\n",
    "print(mul_result)"
   ]
  },
  {
   "cell_type": "code",
   "execution_count": 80,
   "metadata": {},
   "outputs": [
    {
     "name": "stdout",
     "output_type": "stream",
     "text": [
      "[1] 0.2000000 0.3333333 0.4285714 0.5000000\n"
     ]
    }
   ],
   "source": [
    "#vector division\n",
    "div_result=v1/v2\n",
    "print(div_result)"
   ]
  },
  {
   "cell_type": "markdown",
   "metadata": {},
   "source": [
    "### Coercion\n",
    "\n",
    "- when different types of objects are mixed in a vector,coercion occurs,so that every element in the vector is of the same class.\n",
    "\n",
    "- Coercing of an object from one type of class to another is known as explicit coercion.\n",
    "\n",
    "### Difference between conversion, coercion and cast:\n",
    "\n",
    "- Normally, whatever is converted implicitly is referred to as coercion and if converted explicitly then it is known as casting. Conversion signifies both types- coercion and casting.\n"
   ]
  },
  {
   "cell_type": "code",
   "execution_count": 82,
   "metadata": {},
   "outputs": [
    {
     "name": "stdout",
     "output_type": "stream",
     "text": [
      "[1] 1 2 3 4 5\n"
     ]
    }
   ],
   "source": [
    "x <- c(1, 2, 3, 4, 5)\n",
    "print(x)"
   ]
  },
  {
   "cell_type": "code",
   "execution_count": 83,
   "metadata": {},
   "outputs": [
    {
     "data": {
      "text/html": [
       "'double'"
      ],
      "text/latex": [
       "'double'"
      ],
      "text/markdown": [
       "'double'"
      ],
      "text/plain": [
       "[1] \"double\""
      ]
     },
     "metadata": {},
     "output_type": "display_data"
    }
   ],
   "source": [
    "typeof(x)"
   ]
  },
  {
   "cell_type": "code",
   "execution_count": 84,
   "metadata": {},
   "outputs": [
    {
     "data": {
      "text/html": [
       "'numeric'"
      ],
      "text/latex": [
       "'numeric'"
      ],
      "text/markdown": [
       "'numeric'"
      ],
      "text/plain": [
       "[1] \"numeric\""
      ]
     },
     "metadata": {},
     "output_type": "display_data"
    }
   ],
   "source": [
    "class(x)"
   ]
  },
  {
   "cell_type": "markdown",
   "metadata": {},
   "source": [
    "- Let’s change the second element of the vector to the word “hello”. R will change the object class to character and change all the elements in the vector to char:"
   ]
  },
  {
   "cell_type": "code",
   "execution_count": 85,
   "metadata": {},
   "outputs": [
    {
     "name": "stdout",
     "output_type": "stream",
     "text": [
      "[1] \"1\"     \"hello\" \"3\"     \"4\"     \"5\"    \n"
     ]
    }
   ],
   "source": [
    "x[2]='hello'\n",
    "print(x)"
   ]
  },
  {
   "cell_type": "code",
   "execution_count": 86,
   "metadata": {},
   "outputs": [
    {
     "data": {
      "text/html": [
       "'character'"
      ],
      "text/latex": [
       "'character'"
      ],
      "text/markdown": [
       "'character'"
      ],
      "text/plain": [
       "[1] \"character\""
      ]
     },
     "metadata": {},
     "output_type": "display_data"
    }
   ],
   "source": [
    "typeof(x)"
   ]
  },
  {
   "cell_type": "code",
   "execution_count": 87,
   "metadata": {},
   "outputs": [
    {
     "data": {
      "text/html": [
       "'character'"
      ],
      "text/latex": [
       "'character'"
      ],
      "text/markdown": [
       "'character'"
      ],
      "text/plain": [
       "[1] \"character\""
      ]
     },
     "metadata": {},
     "output_type": "display_data"
    }
   ],
   "source": [
    "class(x)"
   ]
  },
  {
   "cell_type": "markdown",
   "metadata": {},
   "source": [
    "### Here is an overview of the coercion rules:\n",
    "\n",
    "- Logical values are converted to numbers: TRUE is converted to 1 and FALSE to 0.\n",
    "\n",
    "- Values are converted to the simplest type required to represent all information.\n",
    "\n",
    "- The ordering is roughly logical < integer < numeric < complex < character < list.\n",
    "\n",
    "- Objects of type raw are not converted to other types"
   ]
  },
  {
   "cell_type": "markdown",
   "metadata": {},
   "source": [
    "- as.logical:\tConverts the value to logical type.\n",
    "  If 0 is present then it is converted to FALSE\n",
    "  Any other value is converted to TRUE\n",
    "  \n",
    "- as.integer\tConverts the object to integer type\n",
    "- as.double\tConverts the object to double precision type\n",
    "- as.complex\tConverts the object to complex type\n",
    "- as.list\tIt accepts only dictionary type or vector as input arguments in the parameter"
   ]
  },
  {
   "cell_type": "code",
   "execution_count": 89,
   "metadata": {},
   "outputs": [
    {
     "name": "stdout",
     "output_type": "stream",
     "text": [
      "[1] 0 1 0 3\n",
      "[1] \"numeric\"\n"
     ]
    }
   ],
   "source": [
    "x<-c(0, 1, 0, 3) \n",
    "print(x)\n",
    "print(class(x))"
   ]
  },
  {
   "cell_type": "code",
   "execution_count": 90,
   "metadata": {},
   "outputs": [
    {
     "data": {
      "text/html": [
       "<style>\n",
       ".list-inline {list-style: none; margin:0; padding: 0}\n",
       ".list-inline>li {display: inline-block}\n",
       ".list-inline>li:not(:last-child)::after {content: \"\\00b7\"; padding: 0 .5ex}\n",
       "</style>\n",
       "<ol class=list-inline><li>0+0i</li><li>1+0i</li><li>0+0i</li><li>3+0i</li></ol>\n"
      ],
      "text/latex": [
       "\\begin{enumerate*}\n",
       "\\item 0+0i\n",
       "\\item 1+0i\n",
       "\\item 0+0i\n",
       "\\item 3+0i\n",
       "\\end{enumerate*}\n"
      ],
      "text/markdown": [
       "1. 0+0i\n",
       "2. 1+0i\n",
       "3. 0+0i\n",
       "4. 3+0i\n",
       "\n",
       "\n"
      ],
      "text/plain": [
       "[1] 0+0i 1+0i 0+0i 3+0i"
      ]
     },
     "metadata": {},
     "output_type": "display_data"
    }
   ],
   "source": [
    "as.complex(x)"
   ]
  },
  {
   "cell_type": "code",
   "execution_count": 91,
   "metadata": {},
   "outputs": [
    {
     "data": {
      "text/html": [
       "<ol>\n",
       "\t<li>0</li>\n",
       "\t<li>1</li>\n",
       "\t<li>0</li>\n",
       "\t<li>3</li>\n",
       "</ol>\n"
      ],
      "text/latex": [
       "\\begin{enumerate}\n",
       "\\item 0\n",
       "\\item 1\n",
       "\\item 0\n",
       "\\item 3\n",
       "\\end{enumerate}\n"
      ],
      "text/markdown": [
       "1. 0\n",
       "2. 1\n",
       "3. 0\n",
       "4. 3\n",
       "\n",
       "\n"
      ],
      "text/plain": [
       "[[1]]\n",
       "[1] 0\n",
       "\n",
       "[[2]]\n",
       "[1] 1\n",
       "\n",
       "[[3]]\n",
       "[1] 0\n",
       "\n",
       "[[4]]\n",
       "[1] 3\n"
      ]
     },
     "metadata": {},
     "output_type": "display_data"
    }
   ],
   "source": [
    "as.list(x)"
   ]
  },
  {
   "cell_type": "code",
   "execution_count": 92,
   "metadata": {},
   "outputs": [
    {
     "data": {
      "text/html": [
       "<style>\n",
       ".list-inline {list-style: none; margin:0; padding: 0}\n",
       ".list-inline>li {display: inline-block}\n",
       ".list-inline>li:not(:last-child)::after {content: \"\\00b7\"; padding: 0 .5ex}\n",
       "</style>\n",
       "<ol class=list-inline><li>FALSE</li><li>TRUE</li><li>FALSE</li><li>TRUE</li></ol>\n"
      ],
      "text/latex": [
       "\\begin{enumerate*}\n",
       "\\item FALSE\n",
       "\\item TRUE\n",
       "\\item FALSE\n",
       "\\item TRUE\n",
       "\\end{enumerate*}\n"
      ],
      "text/markdown": [
       "1. FALSE\n",
       "2. TRUE\n",
       "3. FALSE\n",
       "4. TRUE\n",
       "\n",
       "\n"
      ],
      "text/plain": [
       "[1] FALSE  TRUE FALSE  TRUE"
      ]
     },
     "metadata": {},
     "output_type": "display_data"
    }
   ],
   "source": [
    "as.logical(x)"
   ]
  },
  {
   "cell_type": "markdown",
   "metadata": {},
   "source": [
    "### NOTE:NA(Not Availables)s are produced during explicit coercion if R is not able to decide the way to coerce some object."
   ]
  },
  {
   "cell_type": "code",
   "execution_count": 100,
   "metadata": {},
   "outputs": [
    {
     "name": "stderr",
     "output_type": "stream",
     "text": [
      "Warning message in eval(expr, envir, enclos):\n",
      "“NAs introduced by coercion”\n"
     ]
    },
    {
     "data": {
      "text/html": [
       "<style>\n",
       ".list-inline {list-style: none; margin:0; padding: 0}\n",
       ".list-inline>li {display: inline-block}\n",
       ".list-inline>li:not(:last-child)::after {content: \"\\00b7\"; padding: 0 .5ex}\n",
       "</style>\n",
       "<ol class=list-inline><li>&lt;NA&gt;</li><li>&lt;NA&gt;</li><li>&lt;NA&gt;</li></ol>\n"
      ],
      "text/latex": [
       "\\begin{enumerate*}\n",
       "\\item <NA>\n",
       "\\item <NA>\n",
       "\\item <NA>\n",
       "\\end{enumerate*}\n"
      ],
      "text/markdown": [
       "1. &lt;NA&gt;\n",
       "2. &lt;NA&gt;\n",
       "3. &lt;NA&gt;\n",
       "\n",
       "\n"
      ],
      "text/plain": [
       "[1] NA NA NA"
      ]
     },
     "metadata": {},
     "output_type": "display_data"
    },
    {
     "data": {
      "text/html": [
       "<style>\n",
       ".list-inline {list-style: none; margin:0; padding: 0}\n",
       ".list-inline>li {display: inline-block}\n",
       ".list-inline>li:not(:last-child)::after {content: \"\\00b7\"; padding: 0 .5ex}\n",
       "</style>\n",
       "<ol class=list-inline><li>&lt;NA&gt;</li><li>&lt;NA&gt;</li><li>&lt;NA&gt;</li></ol>\n"
      ],
      "text/latex": [
       "\\begin{enumerate*}\n",
       "\\item <NA>\n",
       "\\item <NA>\n",
       "\\item <NA>\n",
       "\\end{enumerate*}\n"
      ],
      "text/markdown": [
       "1. &lt;NA&gt;\n",
       "2. &lt;NA&gt;\n",
       "3. &lt;NA&gt;\n",
       "\n",
       "\n"
      ],
      "text/plain": [
       "[1] NA NA NA"
      ]
     },
     "metadata": {},
     "output_type": "display_data"
    },
    {
     "name": "stderr",
     "output_type": "stream",
     "text": [
      "Warning message in eval(expr, envir, enclos):\n",
      "“NAs introduced by coercion”\n"
     ]
    },
    {
     "data": {
      "text/html": [
       "<style>\n",
       ".list-inline {list-style: none; margin:0; padding: 0}\n",
       ".list-inline>li {display: inline-block}\n",
       ".list-inline>li:not(:last-child)::after {content: \"\\00b7\"; padding: 0 .5ex}\n",
       "</style>\n",
       "<ol class=list-inline><li>&lt;NA&gt;</li><li>&lt;NA&gt;</li><li>&lt;NA&gt;</li></ol>\n"
      ],
      "text/latex": [
       "\\begin{enumerate*}\n",
       "\\item <NA>\n",
       "\\item <NA>\n",
       "\\item <NA>\n",
       "\\end{enumerate*}\n"
      ],
      "text/markdown": [
       "1. &lt;NA&gt;\n",
       "2. &lt;NA&gt;\n",
       "3. &lt;NA&gt;\n",
       "\n",
       "\n"
      ],
      "text/plain": [
       "[1] NA NA NA"
      ]
     },
     "metadata": {},
     "output_type": "display_data"
    }
   ],
   "source": [
    "x<-c(\"a\", \"b\", \"c\") \n",
    "as.numeric(x) \n",
    "as.logical(x)\n",
    "as.complex(x)"
   ]
  },
  {
   "cell_type": "code",
   "execution_count": 99,
   "metadata": {},
   "outputs": [
    {
     "name": "stdout",
     "output_type": "stream",
     "text": [
      " [1] 0 0 0 0 0 0 0 0 0 0\n"
     ]
    }
   ],
   "source": [
    "#creating vector using vector() function\n",
    "c<-vector('numeric',length = 10)\n",
    "print(c)"
   ]
  },
  {
   "cell_type": "markdown",
   "metadata": {},
   "source": [
    "### List\n",
    "\n",
    "- can have elements of different datatypes\n",
    "- can contain numbers,vectors or lists inside itself\n",
    "- created using list() function\n"
   ]
  },
  {
   "cell_type": "code",
   "execution_count": 25,
   "metadata": {},
   "outputs": [
    {
     "name": "stdout",
     "output_type": "stream",
     "text": [
      "[[1]]\n",
      "[1] \"hello\"\n",
      "\n",
      "[[2]]\n",
      "[1] 123\n",
      "\n",
      "[[3]]\n",
      "[1] TRUE\n",
      "\n",
      "[[4]]\n",
      "[1] 12 21\n",
      "\n",
      "[[5]]\n",
      "[1] 22.22\n",
      "\n"
     ]
    }
   ],
   "source": [
    "l1<-list('hello',123,TRUE,c(12,21),22.22)#l1 is the name of the list\n",
    "print(l1)"
   ]
  },
  {
   "cell_type": "code",
   "execution_count": 22,
   "metadata": {},
   "outputs": [
    {
     "name": "stdout",
     "output_type": "stream",
     "text": [
      "[[1]]\n",
      "[1] \"hello\"\n",
      "\n"
     ]
    }
   ],
   "source": [
    "print(l1[1])"
   ]
  },
  {
   "cell_type": "code",
   "execution_count": 27,
   "metadata": {},
   "outputs": [
    {
     "name": "stdout",
     "output_type": "stream",
     "text": [
      "[[1]]\n",
      "[1] 12 21\n",
      "\n"
     ]
    }
   ],
   "source": [
    "print(l1[4])"
   ]
  },
  {
   "cell_type": "code",
   "execution_count": 28,
   "metadata": {},
   "outputs": [
    {
     "name": "stdout",
     "output_type": "stream",
     "text": [
      "$string\n",
      "[1] \"hello\"\n",
      "\n",
      "$numeric\n",
      "[1] 123\n",
      "\n",
      "$logic\n",
      "[1] TRUE\n",
      "\n",
      "$vector\n",
      "[1] 12 21\n",
      "\n",
      "$double\n",
      "[1] 22.22\n",
      "\n"
     ]
    }
   ],
   "source": [
    "#give names to the elements of the list\n",
    "\n",
    "names(l1)<-c('string','numeric','logic','vector','double')\n",
    "print(l1)"
   ]
  },
  {
   "cell_type": "code",
   "execution_count": 32,
   "metadata": {},
   "outputs": [
    {
     "name": "stdout",
     "output_type": "stream",
     "text": [
      "$string\n",
      "[1] \"hello\"\n",
      "\n",
      "$numeric\n",
      "[1] 123\n",
      "\n",
      "$logic\n",
      "[1] TRUE\n",
      "\n",
      "$vector\n",
      "[1] 12 21\n",
      "\n",
      "$double\n",
      "[1] \"war\"\n",
      "\n",
      "[[6]]\n",
      "[1] 1\n",
      "\n"
     ]
    }
   ],
   "source": [
    "#adding an element to a list\n",
    "l1[5]='war'\n",
    "#print(l1)\n",
    "l1[6]=1\n",
    "print(l1)"
   ]
  },
  {
   "cell_type": "code",
   "execution_count": 33,
   "metadata": {},
   "outputs": [
    {
     "name": "stdout",
     "output_type": "stream",
     "text": [
      "$string\n",
      "[1] \"hello\"\n",
      "\n",
      "$numeric\n",
      "[1] 123\n",
      "\n",
      "$logic\n",
      "[1] TRUE\n",
      "\n",
      "$double\n",
      "[1] \"war\"\n",
      "\n"
     ]
    }
   ],
   "source": [
    "#remove elements from the list\n",
    "l1[5]=NULL\n",
    "print(l1)"
   ]
  },
  {
   "cell_type": "code",
   "execution_count": 34,
   "metadata": {},
   "outputs": [
    {
     "name": "stdout",
     "output_type": "stream",
     "text": [
      "$string\n",
      "[1] \"hello\"\n",
      "\n",
      "$numeric\n",
      "[1] 123\n",
      "\n",
      "$logic\n",
      "[1] TRUE\n",
      "\n"
     ]
    }
   ],
   "source": [
    "l1[4]=NULL\n",
    "print(l1)"
   ]
  },
  {
   "cell_type": "code",
   "execution_count": 35,
   "metadata": {},
   "outputs": [
    {
     "name": "stdout",
     "output_type": "stream",
     "text": [
      "$string\n",
      "[1] \"hello world!\"\n",
      "\n",
      "$numeric\n",
      "[1] 123\n",
      "\n",
      "$logic\n",
      "[1] TRUE\n",
      "\n"
     ]
    }
   ],
   "source": [
    "#updating\n",
    "l1[1]='hello world!'\n",
    "print(l1)"
   ]
  },
  {
   "cell_type": "markdown",
   "metadata": {},
   "source": [
    "### MATRIX\n",
    "\n",
    "- objects in which elements are arranged in a 2D rectangular format\n",
    "\n",
    "- matrix can have only homogeneous element type\n",
    "\n",
    "- matrix is created using matrix()\n",
    "\n",
    "- matrix(data,nrow,ncol,byrow,dimnames)\n",
    "\n",
    "data is the input vector which becomes the data elements of the matrix.\n",
    "\n",
    "nrow is the number of rows to be created.\n",
    "\n",
    "ncol is the number of columns to be created.\n",
    "\n",
    "byrow is a logical clue. If TRUE then the input vector elements are arranged by row.\n",
    "\n",
    "dimname is the names assigned to the rows and columns.\n"
   ]
  },
  {
   "cell_type": "code",
   "execution_count": 37,
   "metadata": {},
   "outputs": [
    {
     "name": "stdout",
     "output_type": "stream",
     "text": [
      "     [,1] [,2] [,3] [,4]\n",
      "[1,]    3    6    9   12\n",
      "[2,]    4    7   10   13\n",
      "[3,]    5    8   11   14\n"
     ]
    }
   ],
   "source": [
    "m<-matrix(c(3:14),nrow=3)\n",
    "print(m)"
   ]
  },
  {
   "cell_type": "code",
   "execution_count": 38,
   "metadata": {},
   "outputs": [
    {
     "name": "stdout",
     "output_type": "stream",
     "text": [
      "     [,1] [,2] [,3] [,4]\n",
      "[1,]    3    4    5    6\n",
      "[2,]    7    8    9   10\n",
      "[3,]   11   12   13   14\n"
     ]
    }
   ],
   "source": [
    "m<-matrix(c(3:14),nrow=3,byrow = TRUE)\n",
    "print(m)"
   ]
  },
  {
   "cell_type": "code",
   "execution_count": 39,
   "metadata": {},
   "outputs": [
    {
     "name": "stdout",
     "output_type": "stream",
     "text": [
      "[1] 4\n"
     ]
    }
   ],
   "source": [
    "#accessing elements in matrix\n",
    "print(m[1,2])#printed value in 1st row and 2nd column"
   ]
  },
  {
   "cell_type": "code",
   "execution_count": 44,
   "metadata": {},
   "outputs": [
    {
     "name": "stdout",
     "output_type": "stream",
     "text": [
      "     [,1] [,2] [,3] [,4]\n",
      "[1,]    1    2    3    4\n",
      "[2,]    5    6    7    8\n",
      "[3,]    9   10   11   12\n"
     ]
    }
   ],
   "source": [
    "w=matrix(1:12,nrow = 3,byrow = TRUE)\n",
    "print(w)"
   ]
  },
  {
   "cell_type": "code",
   "execution_count": 45,
   "metadata": {},
   "outputs": [
    {
     "name": "stdout",
     "output_type": "stream",
     "text": [
      "     [,1] [,2] [,3] [,4]\n",
      "[1,]    4    6    8   10\n",
      "[2,]   12   14   16   18\n",
      "[3,]   20   22   24   26\n"
     ]
    }
   ],
   "source": [
    "print(m+w)"
   ]
  },
  {
   "cell_type": "code",
   "execution_count": 46,
   "metadata": {},
   "outputs": [
    {
     "name": "stdout",
     "output_type": "stream",
     "text": [
      "     [,1] [,2] [,3] [,4]\n",
      "[1,]    2    2    2    2\n",
      "[2,]    2    2    2    2\n",
      "[3,]    2    2    2    2\n"
     ]
    }
   ],
   "source": [
    "print(m-w)"
   ]
  },
  {
   "cell_type": "code",
   "execution_count": 48,
   "metadata": {},
   "outputs": [
    {
     "name": "stdout",
     "output_type": "stream",
     "text": [
      "     [,1] [,2] [,3] [,4]\n",
      "[1,]    3    8   15   24\n",
      "[2,]   35   48   63   80\n",
      "[3,]   99  120  143  168\n"
     ]
    }
   ],
   "source": [
    "print(m*w)"
   ]
  },
  {
   "cell_type": "code",
   "execution_count": 49,
   "metadata": {},
   "outputs": [
    {
     "name": "stdout",
     "output_type": "stream",
     "text": [
      "         [,1]     [,2]     [,3]     [,4]\n",
      "[1,] 3.000000 2.000000 1.666667 1.500000\n",
      "[2,] 1.400000 1.333333 1.285714 1.250000\n",
      "[3,] 1.222222 1.200000 1.181818 1.166667\n"
     ]
    }
   ],
   "source": [
    "print(m/w)"
   ]
  },
  {
   "cell_type": "markdown",
   "metadata": {},
   "source": [
    "### Factors\n",
    "\n",
    "- used to store data in levels\n",
    "- useful when there are lots of repeating values\n",
    "- useful in statistical analysis\n",
    "- created using factor()\n",
    "- factor(data)"
   ]
  },
  {
   "cell_type": "code",
   "execution_count": 50,
   "metadata": {},
   "outputs": [
    {
     "name": "stdout",
     "output_type": "stream",
     "text": [
      "[1] \"apple\"  \"orange\" \"mango\"  \"apple\"  \"apple\"  \"mango\" \n"
     ]
    }
   ],
   "source": [
    "#factors are divided into a number of levels based on the number of times a value has repeated on a vector\n",
    "data<-c('apple','orange','mango','apple','apple','mango')\n",
    "print(data)"
   ]
  },
  {
   "cell_type": "code",
   "execution_count": 51,
   "metadata": {},
   "outputs": [
    {
     "name": "stdout",
     "output_type": "stream",
     "text": [
      "[1] apple  orange mango  apple  apple  mango \n",
      "Levels: apple mango orange\n"
     ]
    }
   ],
   "source": [
    "f1<-factor(data)#f1 is the name of the factor\n",
    "print(f1)#3 l3vels here"
   ]
  },
  {
   "cell_type": "markdown",
   "metadata": {},
   "source": [
    "### gl()\n",
    "\n",
    "- Generate Factor Levels.Generate factors by specifying the pattern of their levels.\n",
    "\n",
    "\n",
    "- gl(n, k,labels = seq_len(n))\n",
    "- n:an integer giving the number of levels.\n",
    "\n",
    "- k:an integer giving the number of replications.\n",
    "- labels:an optional vector of labels for the resulting factor levels."
   ]
  },
  {
   "cell_type": "code",
   "execution_count": 53,
   "metadata": {},
   "outputs": [
    {
     "name": "stdout",
     "output_type": "stream",
     "text": [
      " [1] a a a a b b b b c c c c\n",
      "Levels: a b c\n"
     ]
    }
   ],
   "source": [
    "v=gl(3,4,labels=c('a','b','c'))\n",
    "print(v)"
   ]
  },
  {
   "cell_type": "markdown",
   "metadata": {},
   "source": [
    "### Dataframes in R\n",
    "\n",
    "- row : contain set of values related to columns\n",
    "- column:contain value of each variable\n",
    "- column names should be nonempty\n",
    "- row names should be unique"
   ]
  },
  {
   "cell_type": "code",
   "execution_count": 65,
   "metadata": {},
   "outputs": [
    {
     "name": "stdout",
     "output_type": "stream",
     "text": [
      "  emp_id emp_name salary\n",
      "1      1    adish  21000\n",
      "2      2   aneesh  38100\n",
      "3      3    asish  33100\n"
     ]
    }
   ],
   "source": [
    "employee_data<-data.frame( #name of dataframe:employee_data\n",
    "    emp_id=c(1:3),\n",
    "    emp_name=c('adish','aneesh','asish'),\n",
    "    salary=c(21000,38100,33100),\n",
    "    stringsAsFactors=FALSE\n",
    ")\n",
    "#The argument 'stringsAsFactors' is an argument to the 'data. frame()' function in R.\n",
    "#It is a logical that indicates whether strings in a data frame should be treated as factor variables\n",
    "#or as just plain strings.\n",
    "print(employee_data)"
   ]
  },
  {
   "cell_type": "code",
   "execution_count": 57,
   "metadata": {},
   "outputs": [
    {
     "name": "stdout",
     "output_type": "stream",
     "text": [
      "'data.frame':\t3 obs. of  3 variables:\n",
      " $ emp_id  : int  1 2 3\n",
      " $ emp_name: chr  \"adish\" \"aneesh\" \"asish\"\n",
      " $ salary  : num  21000 38100 33100\n"
     ]
    }
   ],
   "source": [
    "# get the structure of the data\n",
    "\n",
    "str(employee_data)"
   ]
  },
  {
   "cell_type": "code",
   "execution_count": 58,
   "metadata": {},
   "outputs": [
    {
     "data": {
      "text/plain": [
       "     emp_id      emp_name             salary     \n",
       " Min.   :1.0   Length:3           Min.   :21000  \n",
       " 1st Qu.:1.5   Class :character   1st Qu.:27050  \n",
       " Median :2.0   Mode  :character   Median :33100  \n",
       " Mean   :2.0                      Mean   :30733  \n",
       " 3rd Qu.:2.5                      3rd Qu.:35600  \n",
       " Max.   :3.0                      Max.   :38100  "
      ]
     },
     "metadata": {},
     "output_type": "display_data"
    }
   ],
   "source": [
    "summary(employee_data)"
   ]
  },
  {
   "cell_type": "code",
   "execution_count": 59,
   "metadata": {},
   "outputs": [
    {
     "name": "stdout",
     "output_type": "stream",
     "text": [
      "  emp_id emp_name salary           dep\n",
      "1      1    adish  21000 datascientist\n",
      "2      2   aneesh  38100        server\n",
      "3      3    asish  33100        webapp\n"
     ]
    }
   ],
   "source": [
    "employee_data$dep<-c('datascientist','server','webapp')\n",
    "print(employee_data)"
   ]
  },
  {
   "cell_type": "markdown",
   "metadata": {},
   "source": [
    "### R packages\n",
    "\n",
    "- collection of  functions and sample data\n",
    "- library() : gives a list of available packages"
   ]
  },
  {
   "cell_type": "code",
   "execution_count": 60,
   "metadata": {},
   "outputs": [
    {
     "name": "stderr",
     "output_type": "stream",
     "text": [
      "Warning message in library():\n",
      "“libraries ‘/usr/local/lib/R/site-library’, ‘/usr/lib/R/site-library’ contain no packages”\n"
     ]
    }
   ],
   "source": [
    "library()"
   ]
  },
  {
   "cell_type": "markdown",
   "metadata": {},
   "source": [
    "### Data Reshaping \n",
    "\n",
    "- changing how data is represented in rows and columns\n",
    "\n",
    "### functions which deal with reshaping:\n",
    "\n",
    "- splitting\n",
    "- merging\n",
    "- interchanging rows and columns\n",
    "\n",
    "### some datareshaping functions in R:\n",
    "\n",
    "- cbind()\n",
    "- rbind()\n",
    "- merge()"
   ]
  },
  {
   "cell_type": "markdown",
   "metadata": {},
   "source": [
    "### 1. cbind()\n",
    "- We use cbind() function to combine vector, matrix or data frame by columns.\n",
    "\n",
    "- cbind(x1,x2,…)\n",
    "- x1,x2: vector, matrix, data frames"
   ]
  },
  {
   "cell_type": "code",
   "execution_count": 61,
   "metadata": {},
   "outputs": [
    {
     "name": "stdout",
     "output_type": "stream",
     "text": [
      "     names age \n",
      "[1,] \"a\"   \"22\"\n",
      "[2,] \"b\"   \"39\"\n",
      "[3,] \"c\"   \"35\"\n"
     ]
    }
   ],
   "source": [
    "#create vector objects\n",
    "names<-c('a','b','c')\n",
    "age<-c(22,39,35)\n",
    "# combine above vectors into a single dataframe\n",
    "df<-cbind(names,age)\n",
    "print(df)"
   ]
  },
  {
   "cell_type": "markdown",
   "metadata": {},
   "source": [
    "### 2. rbind()\n",
    "- We use rbind() function to combine vector, matrix or data frame by rows.\n",
    "\n",
    "- rbind(x1,x2,…)\n",
    "- x1,x2: vector, matrix, data frames"
   ]
  },
  {
   "cell_type": "code",
   "execution_count": 62,
   "metadata": {},
   "outputs": [
    {
     "name": "stdout",
     "output_type": "stream",
     "text": [
      "     names age \n",
      "[1,] \"d\"   \"55\"\n",
      "[2,] \"e\"   \"60\"\n",
      "[3,] \"f\"   \"45\"\n"
     ]
    }
   ],
   "source": [
    "names<-c('d','e','f')\n",
    "age<-c(55,60,45)\n",
    "df1<-cbind(names,age)\n",
    "print(df1)"
   ]
  },
  {
   "cell_type": "code",
   "execution_count": 64,
   "metadata": {},
   "outputs": [
    {
     "name": "stdout",
     "output_type": "stream",
     "text": [
      "     names age \n",
      "[1,] \"a\"   \"22\"\n",
      "[2,] \"b\"   \"39\"\n",
      "[3,] \"c\"   \"35\"\n",
      "[4,] \"d\"   \"55\"\n",
      "[5,] \"e\"   \"60\"\n",
      "[6,] \"f\"   \"45\"\n"
     ]
    }
   ],
   "source": [
    "df_cumulated=rbind(df,df1)\n",
    "print(df_cumulated)"
   ]
  },
  {
   "cell_type": "markdown",
   "metadata": {},
   "source": [
    "### 3.Merge()\n",
    "- In order to combine the two data frames in R, we make use of the merge() function. The data frames must have the same column names on which the merging happens.\n",
    "\n",
    "\n",
    "The merge() function allows four ways of combining data:\n",
    "\n",
    "- Natural join: To keep only rows that match from the data frames, specify the argument all=FALSE.\n",
    "\n",
    "- Full outer join: To keep all rows from both data frames, specify all=TRUE.\n",
    "\n",
    "- Left outer join: To include all the rows of your data frame x and only those from y that match, specify all.x=TRUE.\n",
    "\n",
    "- Right outer join: To include all the rows of your data frame y and only those from x that match, specify all.y=TRUE."
   ]
  },
  {
   "cell_type": "code",
   "execution_count": 66,
   "metadata": {},
   "outputs": [
    {
     "name": "stdout",
     "output_type": "stream",
     "text": [
      "  emp_id emp_name salary\n",
      "1      1    adish  21000\n",
      "2      2   aneesh  38100\n",
      "3      3    asish  33100\n"
     ]
    }
   ],
   "source": [
    "#e1 is a dataframe\n",
    "e1<-data.frame( \n",
    "    emp_id=c(1:3),\n",
    "    emp_name=c('adish','aneesh','asish'),\n",
    "    salary=c(21000,38100,33100),\n",
    "    stringsAsFactors=FALSE\n",
    ")\n",
    "#e2 is another dataframe\n",
    "e2<-data.frame( \n",
    "    emp_id=c(4:6),\n",
    "    emp_name=c('nidhi','bala','vaisakh'),\n",
    "    salary=c(20000,40100,34300),\n",
    "    stringsAsFactors=FALSE\n",
    ")\n",
    "print(e1)"
   ]
  },
  {
   "cell_type": "code",
   "execution_count": 67,
   "metadata": {},
   "outputs": [
    {
     "name": "stdout",
     "output_type": "stream",
     "text": [
      "  emp_id emp_name salary\n",
      "1      4    nidhi  20000\n",
      "2      5     bala  40100\n",
      "3      6  vaisakh  34300\n"
     ]
    }
   ],
   "source": [
    "print(e2)"
   ]
  },
  {
   "cell_type": "code",
   "execution_count": 76,
   "metadata": {},
   "outputs": [
    {
     "name": "stdout",
     "output_type": "stream",
     "text": [
      "  emp_id emp_name salary\n",
      "1      1    adish  21000\n",
      "2      2   aneesh  38100\n",
      "3      3    asish  33100\n",
      "4      4    nidhi  20000\n",
      "5      5     bala  40100\n",
      "6      6  vaisakh  34300\n"
     ]
    }
   ],
   "source": [
    "dff=merge(e1,e2,all=TRUE)\n",
    "print(dff)\n",
    "# FULL OUTER JOIN"
   ]
  },
  {
   "cell_type": "markdown",
   "metadata": {},
   "source": [
    "### Opening R files\n",
    "\n",
    "- read a file in csv : read.csv('filename')\n",
    "- write a file in csv:write.csv(value,'filename')"
   ]
  },
  {
   "cell_type": "code",
   "execution_count": 77,
   "metadata": {},
   "outputs": [
    {
     "name": "stdout",
     "output_type": "stream",
     "text": [
      "  area  price\n",
      "1 2600 550000\n",
      "2 3000 565000\n",
      "3 3200 610000\n",
      "4 3600 680000\n",
      "5 4000 725000\n"
     ]
    }
   ],
   "source": [
    "d=read.csv('/home/adish/Desktop/homeprices.csv')\n",
    "print(d)"
   ]
  },
  {
   "cell_type": "code",
   "execution_count": 78,
   "metadata": {},
   "outputs": [
    {
     "name": "stdout",
     "output_type": "stream",
     "text": [
      "[1] TRUE\n"
     ]
    }
   ],
   "source": [
    " # to check whether it is a dataframe\n",
    "print(is.data.frame(d))"
   ]
  },
  {
   "cell_type": "code",
   "execution_count": 79,
   "metadata": {},
   "outputs": [
    {
     "name": "stdout",
     "output_type": "stream",
     "text": [
      "[1] 5\n",
      "[1] 2\n"
     ]
    }
   ],
   "source": [
    "#print number of rows and columns of the dataframe\n",
    "print(nrow(d))\n",
    "print(ncol(d))"
   ]
  },
  {
   "cell_type": "code",
   "execution_count": 80,
   "metadata": {},
   "outputs": [
    {
     "name": "stdout",
     "output_type": "stream",
     "text": [
      "[1] 725000\n"
     ]
    }
   ],
   "source": [
    "#Print max value in price column\n",
    "print(max(d$price))"
   ]
  },
  {
   "cell_type": "code",
   "execution_count": 82,
   "metadata": {},
   "outputs": [
    {
     "name": "stdout",
     "output_type": "stream",
     "text": [
      "  area  price\n",
      "5 4000 725000\n"
     ]
    }
   ],
   "source": [
    "# to fetch all the rows having maxprice\n",
    "max_price=subset(d,price==max(price))\n",
    "print(max_price)"
   ]
  },
  {
   "cell_type": "markdown",
   "metadata": {},
   "source": [
    "### Writing to csv file"
   ]
  },
  {
   "cell_type": "code",
   "execution_count": 83,
   "metadata": {},
   "outputs": [],
   "source": [
    "write.csv(max_price,'max_price_file.csv')"
   ]
  },
  {
   "cell_type": "code",
   "execution_count": 84,
   "metadata": {},
   "outputs": [],
   "source": [
    "newdf=read.csv('max_price_file.csv')"
   ]
  },
  {
   "cell_type": "code",
   "execution_count": 85,
   "metadata": {},
   "outputs": [
    {
     "name": "stdout",
     "output_type": "stream",
     "text": [
      "  X area  price\n",
      "1 5 4000 725000\n"
     ]
    }
   ],
   "source": [
    "print(newdf)"
   ]
  },
  {
   "cell_type": "markdown",
   "metadata": {},
   "source": [
    "### Plotting using R\n",
    "\n",
    "- R is preffered for dataanalysis because of its graphical capabilities.\n",
    "\n",
    "### following are the types that can be plotted graphically using R\n",
    "\n",
    "- pie chart\n",
    "- bar chart\n",
    "- box plot\n",
    "- histogram\n",
    "- line graphs\n",
    "- scatter plots\n"
   ]
  },
  {
   "cell_type": "markdown",
   "metadata": {},
   "source": [
    "### pie chart"
   ]
  },
  {
   "cell_type": "code",
   "execution_count": 86,
   "metadata": {},
   "outputs": [
    {
     "data": {
      "image/png": "[encoded data removed]",
      "text/plain": [
       "Plot with title “pie chart of food_items”"
      ]
     },
     "metadata": {
      "image/png": {
       "height": 420,
       "width": 420
      },
      "text/plain": {
       "height": 420,
       "width": 420
      }
     },
     "output_type": "display_data"
    }
   ],
   "source": [
    "slices=c(10,12,4,16,8)\n",
    "labels=c('burger','pizza','french fries','sandwich','shawarma')\n",
    "pie(slices,labels=labels,main='pie chart of food_items')\n"
   ]
  },
  {
   "cell_type": "markdown",
   "metadata": {},
   "source": [
    "### Barplot\n",
    "\n",
    "- graphical representation in which numerical variables are represented by vertical lines.\n",
    "\n",
    "- lines are equal in width , but height is different\n"
   ]
  },
  {
   "cell_type": "code",
   "execution_count": 90,
   "metadata": {},
   "outputs": [
    {
     "name": "stdout",
     "output_type": "stream",
     "text": [
      "\n",
      " 3  4  5 \n",
      "15 12  5 \n"
     ]
    }
   ],
   "source": [
    "counts=table(mtcars$gear)\n",
    "print(counts)"
   ]
  },
  {
   "cell_type": "code",
   "execution_count": 92,
   "metadata": {},
   "outputs": [
    {
     "data": {
      "image/png": "[encoded data removed]",
      "text/plain": [
       "Plot with title “barplot!!”"
      ]
     },
     "metadata": {
      "image/png": {
       "height": 420,
       "width": 420
      },
      "text/plain": {
       "height": 420,
       "width": 420
      }
     },
     "output_type": "display_data"
    }
   ],
   "source": [
    "barplot(counts,main='barplot!!',xlab='number of gears',ylab='number of cars ')"
   ]
  },
  {
   "cell_type": "markdown",
   "metadata": {},
   "source": [
    "### boxplot\n",
    "\n",
    "- rectangles represent 2nd and 3rd quartile\n",
    "- vertical lines are used to represent medians \n",
    "- lower and upper quartiles are shown as horizontal lines.\n"
   ]
  },
  {
   "cell_type": "code",
   "execution_count": 95,
   "metadata": {},
   "outputs": [
    {
     "data": {
      "image/png": "[encoded data removed]",
      "text/plain": [
       "Plot with title “car mileage data”"
      ]
     },
     "metadata": {
      "image/png": {
       "height": 420,
       "width": 420
      },
      "text/plain": {
       "height": 420,
       "width": 420
      }
     },
     "output_type": "display_data"
    }
   ],
   "source": [
    "#mileage per gallon(mpg) and cyl-->number of cylinders\n",
    "boxplot(mpg~cyl,data=mtcars,main='car mileage data',xlab='Number of cylinders',ylab='miles per gallon')"
   ]
  },
  {
   "cell_type": "markdown",
   "metadata": {},
   "source": [
    "### Histogram\n"
   ]
  },
  {
   "cell_type": "code",
   "execution_count": 97,
   "metadata": {},
   "outputs": [
    {
     "data": {
      "image/png": "[encoded data removed]",
      "text/plain": [
       "Plot with title “Histogram of mtcars$mpg”"
      ]
     },
     "metadata": {
      "image/png": {
       "height": 420,
       "width": 420
      },
      "text/plain": {
       "height": 420,
       "width": 420
      }
     },
     "output_type": "display_data"
    }
   ],
   "source": [
    "hist(mtcars$mpg,col='blue')"
   ]
  },
  {
   "cell_type": "markdown",
   "metadata": {},
   "source": [
    "### Scatterplot\n",
    "- used to plot data using points in different coordinates.\n"
   ]
  },
  {
   "cell_type": "code",
   "execution_count": 99,
   "metadata": {},
   "outputs": [
    {
     "data": {
      "image/png": "[encoded data removed]",
      "text/plain": [
       "plot without title"
      ]
     },
     "metadata": {
      "image/png": {
       "height": 420,
       "width": 420
      },
      "text/plain": {
       "height": 420,
       "width": 420
      }
     },
     "output_type": "display_data"
    }
   ],
   "source": [
    "attach(mtcars)\n",
    "plot(wt,mpg)"
   ]
  },
  {
   "cell_type": "markdown",
   "metadata": {},
   "source": [
    "## Statistical analysis in R\n",
    "\n",
    "- 1.Mean\n",
    "- 2.Median: middle most value in a collection.\n",
    "- 3.Mode: most repeated value in a dataset\n"
   ]
  },
  {
   "cell_type": "code",
   "execution_count": 100,
   "metadata": {},
   "outputs": [
    {
     "name": "stdout",
     "output_type": "stream",
     "text": [
      " [1]  4  4  7  7  8  9 10 10 10 11 11 12 12 12 12 13 13 13 13 14 14 14 14 15 15\n",
      "[26] 15 16 16 17 17 17 18 18 18 18 19 19 19 20 20 20 20 20 22 23 24 24 24 24 25\n"
     ]
    },
    {
     "data": {
      "text/html": [
       "15.4"
      ],
      "text/latex": [
       "15.4"
      ],
      "text/markdown": [
       "15.4"
      ],
      "text/plain": [
       "[1] 15.4"
      ]
     },
     "metadata": {},
     "output_type": "display_data"
    },
    {
     "data": {
      "text/html": [
       "15"
      ],
      "text/latex": [
       "15"
      ],
      "text/markdown": [
       "15"
      ],
      "text/plain": [
       "[1] 15"
      ]
     },
     "metadata": {},
     "output_type": "display_data"
    }
   ],
   "source": [
    "x<-cars$speed\n",
    "print(x)\n",
    "mean(x)\n",
    "median(x)"
   ]
  },
  {
   "cell_type": "markdown",
   "metadata": {},
   "source": [
    "### R Linear regression\n",
    "\n",
    "- regression is a statistical tool, used to find relationship between 2 variables.\n",
    "- 1 variable is the predict variable and another is the response variable.\n",
    "- in linear regression , these variables are related through y=mx+b equation.\n",
    "- to find linear regression , we use function lm().\n",
    "\n",
    "#### syntax:\n",
    "\n",
    "- lm(formula,data)\n",
    "- formula  is the relationship between x and y.\n",
    "- data is the set on which formula will be applied."
   ]
  },
  {
   "cell_type": "code",
   "execution_count": 108,
   "metadata": {},
   "outputs": [
    {
     "name": "stdout",
     "output_type": "stream",
     "text": [
      "       1 \n",
      "77204.91 \n"
     ]
    }
   ],
   "source": [
    "#predictor vector\n",
    "\n",
    "x<-c(2400,3200,1200,100)#area of houses\n",
    "\n",
    "#response vector\n",
    "\n",
    "y<-c(100000,250000,89000,5600)#price of house\n",
    "\n",
    "#applying lm()\n",
    "\n",
    "relation<-lm(y~x)\n",
    "\n",
    "#summary(relation)\n",
    "\n",
    "# to predict the price of a house based on area\n",
    "\n",
    "a<-data.frame(x=1230)\n",
    "result<-predict(relation,a)\n",
    "print(result)"
   ]
  },
  {
   "cell_type": "markdown",
   "metadata": {},
   "source": [
    "### additional reading:\n",
    "\n",
    "- Quartiles are values that divide your data into quarters.\n",
    "The four quarters that divide a data set into quartiles are:\n",
    "\n",
    "The lowest 25% of numbers.\n",
    "\n",
    "The next lowest 25% of numbers (up to the median).\n",
    "\n",
    "The second highest 25% of numbers (above the median).\n",
    "\n",
    "The highest 25% of numbers.\n"
   ]
  },
  {
   "cell_type": "markdown",
   "metadata": {},
   "source": [
    "## THEORY\n",
    "\n",
    "- the head() function,by default, displays the first six records\n",
    "\n",
    "\n",
    "- The summary() function provides some descriptive statistics, such as the mean andmedian, for each data column. Additionally, the minimum and maximum values as well asthe 1st and 3rd quartiles are provided.\n",
    "\n",
    "- the plot() function generates a scatterplot\n",
    "\n",
    "- The summary() function is an example of a generic function. A generic function is agroup of functions sharing the same name but behaving differently depending on thenumber and the type of arguments they receive. Utilized previously, plot() is another example of a generic function; the plot is determined by the passed variables.\n",
    "\n",
    "- R Graphical User Interfaces\n",
    "        - Scripts: Serves as an area to write and save R code\n",
    "        - Workspace: Lists the datasets and variables in the R environment\n",
    "        - Plots: Displays the plots generated by the R code \n",
    "        - Console: Provides a history of the executed R code and the output\n",
    "        \n",
    "        \n",
    "        \n",
    "- read.table() and read.delim() , which are intended to import other common file types such as TXT.\n",
    "\n",
    "\n",
    "- The class() function represents the abstract class of an object. The typeof() function determines the way an object is stored in memory.\n",
    "\n",
    "- how to test if i is an integer using the is.integer() function and to coerce i into a new integer variable, j , using the as.integer() function.\n",
    "\n",
    "\n",
    "- simple R variables are actually vectors. A vector can only consist of values in the same class. The tests for vectors can be conducted using the is.vector() function.\n",
    "\n",
    "- a vector can be created using the combine function, c() or the colon operator, :\n",
    "\n",
    "- Sometimes it is necessary to initialize a vector of a specific length and then populate th econtent of the vector later. The vector() function, by default, creates a logical vector. A vector of a different type can be specified by using the mode parameter. The vector c , an integer vector of length 0, may be useful when the number of elements is not initially known and the new elements will later be added to the end of the vector as the values become available.\n",
    "\n",
    "- Although vectors may appear to be analogous to arrays of one dimension, they are technically dimensionless\n",
    "\n",
    "- The array() function can be used to restructure a vector as an array.\n",
    "\n",
    "- A two-dimensional array is known as a matrix.\n",
    "\n",
    "- data frames provide a structure for storing and accessing several variables of possibly different data types\n",
    "\n",
    "- the variables stored in the data frame can be easily accessed using the $ notation\n",
    "\n",
    "\n"
   ]
  },
  {
   "cell_type": "markdown",
   "metadata": {},
   "source": [
    "- The following use of the str() function provides the structure of  data frame. This function identifies the integer and numeric (double) data types, the factor variables and levels, as well as the first few values for each variable\n",
    "\n",
    "- data frames are lists of variables of the same length.\n",
    "\n",
    "- In R, table refers to a class of objects used to store the observed counts across the factors for a given dataset. Such a table is commonly referred to as a contingency table\n"
   ]
  },
  {
   "cell_type": "code",
   "execution_count": 115,
   "metadata": {},
   "outputs": [],
   "source": [
    "i=1\n",
    "sport='football'\n",
    "flag=TRUE"
   ]
  },
  {
   "cell_type": "code",
   "execution_count": 116,
   "metadata": {},
   "outputs": [
    {
     "data": {
      "text/html": [
       "'double'"
      ],
      "text/latex": [
       "'double'"
      ],
      "text/markdown": [
       "'double'"
      ],
      "text/plain": [
       "[1] \"double\""
      ]
     },
     "metadata": {},
     "output_type": "display_data"
    },
    {
     "name": "stdout",
     "output_type": "stream",
     "text": [
      "[1] \"numeric\"\n"
     ]
    }
   ],
   "source": [
    "typeof(i)\n",
    "print(class(i))"
   ]
  },
  {
   "cell_type": "code",
   "execution_count": 111,
   "metadata": {},
   "outputs": [
    {
     "data": {
      "text/html": [
       "FALSE"
      ],
      "text/latex": [
       "FALSE"
      ],
      "text/markdown": [
       "FALSE"
      ],
      "text/plain": [
       "[1] FALSE"
      ]
     },
     "metadata": {},
     "output_type": "display_data"
    }
   ],
   "source": [
    "is.integer(i)"
   ]
  },
  {
   "cell_type": "code",
   "execution_count": 117,
   "metadata": {},
   "outputs": [],
   "source": [
    "x=as.integer(i)"
   ]
  },
  {
   "cell_type": "code",
   "execution_count": 118,
   "metadata": {},
   "outputs": [
    {
     "data": {
      "text/html": [
       "TRUE"
      ],
      "text/latex": [
       "TRUE"
      ],
      "text/markdown": [
       "TRUE"
      ],
      "text/plain": [
       "[1] TRUE"
      ]
     },
     "metadata": {},
     "output_type": "display_data"
    }
   ],
   "source": [
    "is.integer(x)"
   ]
  },
  {
   "cell_type": "code",
   "execution_count": 119,
   "metadata": {},
   "outputs": [
    {
     "data": {
      "text/html": [
       "1"
      ],
      "text/latex": [
       "1"
      ],
      "text/markdown": [
       "1"
      ],
      "text/plain": [
       "[1] 1"
      ]
     },
     "metadata": {},
     "output_type": "display_data"
    }
   ],
   "source": [
    "#The application of the length() function reveals that the created variables each have a length of 1. One might have expected the returned length of sport to have been 8 for each\n",
    "#of the characters in the string “football” . However, these three variables are actually one\n",
    "#element, vectors.\n",
    "length(i)"
   ]
  },
  {
   "cell_type": "code",
   "execution_count": 120,
   "metadata": {},
   "outputs": [
    {
     "data": {
      "text/html": [
       "1"
      ],
      "text/latex": [
       "1"
      ],
      "text/markdown": [
       "1"
      ],
      "text/plain": [
       "[1] 1"
      ]
     },
     "metadata": {},
     "output_type": "display_data"
    }
   ],
   "source": [
    "length(sport)"
   ]
  },
  {
   "cell_type": "code",
   "execution_count": 121,
   "metadata": {},
   "outputs": [
    {
     "data": {
      "text/html": [
       "1"
      ],
      "text/latex": [
       "1"
      ],
      "text/markdown": [
       "1"
      ],
      "text/plain": [
       "[1] 1"
      ]
     },
     "metadata": {},
     "output_type": "display_data"
    }
   ],
   "source": [
    "length(flag)"
   ]
  },
  {
   "cell_type": "code",
   "execution_count": 122,
   "metadata": {
    "collapsed": true
   },
   "outputs": [
    {
     "data": {
      "text/html": [
       "TRUE"
      ],
      "text/latex": [
       "TRUE"
      ],
      "text/markdown": [
       "TRUE"
      ],
      "text/plain": [
       "[1] TRUE"
      ]
     },
     "metadata": {},
     "output_type": "display_data"
    }
   ],
   "source": [
    "is.vector(i)"
   ]
  },
  {
   "cell_type": "code",
   "execution_count": 123,
   "metadata": {},
   "outputs": [
    {
     "data": {
      "text/html": [
       "TRUE"
      ],
      "text/latex": [
       "TRUE"
      ],
      "text/markdown": [
       "TRUE"
      ],
      "text/plain": [
       "[1] TRUE"
      ]
     },
     "metadata": {},
     "output_type": "display_data"
    }
   ],
   "source": [
    "is.vector(flag)"
   ]
  },
  {
   "cell_type": "code",
   "execution_count": 125,
   "metadata": {},
   "outputs": [
    {
     "data": {
      "text/html": [
       "TRUE"
      ],
      "text/latex": [
       "TRUE"
      ],
      "text/markdown": [
       "TRUE"
      ],
      "text/plain": [
       "[1] TRUE"
      ]
     },
     "metadata": {},
     "output_type": "display_data"
    }
   ],
   "source": [
    "is.vector(sport)"
   ]
  },
  {
   "cell_type": "code",
   "execution_count": 126,
   "metadata": {},
   "outputs": [
    {
     "data": {
      "text/html": [
       "8"
      ],
      "text/latex": [
       "8"
      ],
      "text/markdown": [
       "8"
      ],
      "text/plain": [
       "[1] 8"
      ]
     },
     "metadata": {},
     "output_type": "display_data"
    }
   ],
   "source": [
    "#nchar()-->used to find character length\n",
    "nchar(sport)"
   ]
  },
  {
   "cell_type": "code",
   "execution_count": 127,
   "metadata": {},
   "outputs": [
    {
     "data": {
      "text/html": [
       "3"
      ],
      "text/latex": [
       "3"
      ],
      "text/markdown": [
       "3"
      ],
      "text/plain": [
       "[1] 3"
      ]
     },
     "metadata": {},
     "output_type": "display_data"
    }
   ],
   "source": [
    "v=c(1,2,3)\n",
    "length(v)"
   ]
  },
  {
   "cell_type": "code",
   "execution_count": 128,
   "metadata": {},
   "outputs": [
    {
     "name": "stdout",
     "output_type": "stream",
     "text": [
      "[1] 1 2 3 4 5\n"
     ]
    }
   ],
   "source": [
    "#2 ways to create vectors\n",
    "\n",
    "v1<-c(10,20) #vector created using combine function c()\n",
    "v2<-1:5\n",
    "print(v2)"
   ]
  },
  {
   "cell_type": "code",
   "execution_count": 129,
   "metadata": {},
   "outputs": [
    {
     "data": {
      "text/html": [
       "<style>\n",
       ".list-inline {list-style: none; margin:0; padding: 0}\n",
       ".list-inline>li {display: inline-block}\n",
       ".list-inline>li:not(:last-child)::after {content: \"\\00b7\"; padding: 0 .5ex}\n",
       "</style>\n",
       "<ol class=list-inline><li>FALSE</li><li>FALSE</li><li>FALSE</li><li>TRUE</li><li>TRUE</li></ol>\n"
      ],
      "text/latex": [
       "\\begin{enumerate*}\n",
       "\\item FALSE\n",
       "\\item FALSE\n",
       "\\item FALSE\n",
       "\\item TRUE\n",
       "\\item TRUE\n",
       "\\end{enumerate*}\n"
      ],
      "text/markdown": [
       "1. FALSE\n",
       "2. FALSE\n",
       "3. FALSE\n",
       "4. TRUE\n",
       "5. TRUE\n",
       "\n",
       "\n"
      ],
      "text/plain": [
       "[1] FALSE FALSE FALSE  TRUE  TRUE"
      ]
     },
     "metadata": {},
     "output_type": "display_data"
    }
   ],
   "source": [
    "v2>3"
   ]
  },
  {
   "cell_type": "code",
   "execution_count": 130,
   "metadata": {},
   "outputs": [
    {
     "data": {
      "text/html": [
       "<style>\n",
       ".list-inline {list-style: none; margin:0; padding: 0}\n",
       ".list-inline>li {display: inline-block}\n",
       ".list-inline>li:not(:last-child)::after {content: \"\\00b7\"; padding: 0 .5ex}\n",
       "</style>\n",
       "<ol class=list-inline><li>4</li><li>5</li></ol>\n"
      ],
      "text/latex": [
       "\\begin{enumerate*}\n",
       "\\item 4\n",
       "\\item 5\n",
       "\\end{enumerate*}\n"
      ],
      "text/markdown": [
       "1. 4\n",
       "2. 5\n",
       "\n",
       "\n"
      ],
      "text/plain": [
       "[1] 4 5"
      ]
     },
     "metadata": {},
     "output_type": "display_data"
    }
   ],
   "source": [
    "v2[v2>3]"
   ]
  },
  {
   "cell_type": "code",
   "execution_count": 131,
   "metadata": {},
   "outputs": [
    {
     "data": {
      "text/html": [
       "<style>\n",
       ".list-inline {list-style: none; margin:0; padding: 0}\n",
       ".list-inline>li {display: inline-block}\n",
       ".list-inline>li:not(:last-child)::after {content: \"\\00b7\"; padding: 0 .5ex}\n",
       "</style>\n",
       "<ol class=list-inline><li>3</li><li>4</li><li>5</li></ol>\n"
      ],
      "text/latex": [
       "\\begin{enumerate*}\n",
       "\\item 3\n",
       "\\item 4\n",
       "\\item 5\n",
       "\\end{enumerate*}\n"
      ],
      "text/markdown": [
       "1. 3\n",
       "2. 4\n",
       "3. 5\n",
       "\n",
       "\n"
      ],
      "text/plain": [
       "[1] 3 4 5"
      ]
     },
     "metadata": {},
     "output_type": "display_data"
    }
   ],
   "source": [
    "v2[v2>2 | v2>4]"
   ]
  },
  {
   "cell_type": "code",
   "execution_count": 132,
   "metadata": {},
   "outputs": [
    {
     "data": {
      "text/html": [
       "15"
      ],
      "text/latex": [
       "15"
      ],
      "text/markdown": [
       "15"
      ],
      "text/plain": [
       "[1] 15"
      ]
     },
     "metadata": {},
     "output_type": "display_data"
    }
   ],
   "source": [
    "sum(v2)"
   ]
  },
  {
   "cell_type": "code",
   "execution_count": 133,
   "metadata": {},
   "outputs": [
    {
     "data": {
      "text/html": [
       "<style>\n",
       ".list-inline {list-style: none; margin:0; padding: 0}\n",
       ".list-inline>li {display: inline-block}\n",
       ".list-inline>li:not(:last-child)::after {content: \"\\00b7\"; padding: 0 .5ex}\n",
       "</style>\n",
       "<ol class=list-inline><li>FALSE</li><li>FALSE</li><li>FALSE</li></ol>\n"
      ],
      "text/latex": [
       "\\begin{enumerate*}\n",
       "\\item FALSE\n",
       "\\item FALSE\n",
       "\\item FALSE\n",
       "\\end{enumerate*}\n"
      ],
      "text/markdown": [
       "1. FALSE\n",
       "2. FALSE\n",
       "3. FALSE\n",
       "\n",
       "\n"
      ],
      "text/plain": [
       "[1] FALSE FALSE FALSE"
      ]
     },
     "metadata": {},
     "output_type": "display_data"
    }
   ],
   "source": [
    "a<-vector(length=3)# create a logical vector of length 3\n",
    "a"
   ]
  },
  {
   "cell_type": "code",
   "execution_count": 137,
   "metadata": {},
   "outputs": [
    {
     "data": {
      "text/html": [
       "<style>\n",
       ".list-inline {list-style: none; margin:0; padding: 0}\n",
       ".list-inline>li {display: inline-block}\n",
       ".list-inline>li:not(:last-child)::after {content: \"\\00b7\"; padding: 0 .5ex}\n",
       "</style>\n",
       "<ol class=list-inline><li>0</li><li>0</li><li>0</li></ol>\n"
      ],
      "text/latex": [
       "\\begin{enumerate*}\n",
       "\\item 0\n",
       "\\item 0\n",
       "\\item 0\n",
       "\\end{enumerate*}\n"
      ],
      "text/markdown": [
       "1. 0\n",
       "2. 0\n",
       "3. 0\n",
       "\n",
       "\n"
      ],
      "text/plain": [
       "[1] 0 0 0"
      ]
     },
     "metadata": {},
     "output_type": "display_data"
    },
    {
     "name": "stdout",
     "output_type": "stream",
     "text": [
      "[1] 3\n"
     ]
    }
   ],
   "source": [
    "b<-vector(mode='numeric',3)\n",
    "b\n",
    "print(length(b))"
   ]
  },
  {
   "cell_type": "code",
   "execution_count": 135,
   "metadata": {},
   "outputs": [],
   "source": [
    "b[2]=12"
   ]
  },
  {
   "cell_type": "code",
   "execution_count": 136,
   "metadata": {},
   "outputs": [
    {
     "data": {
      "text/html": [
       "<style>\n",
       ".list-inline {list-style: none; margin:0; padding: 0}\n",
       ".list-inline>li {display: inline-block}\n",
       ".list-inline>li:not(:last-child)::after {content: \"\\00b7\"; padding: 0 .5ex}\n",
       "</style>\n",
       "<ol class=list-inline><li>0</li><li>12</li><li>0</li></ol>\n"
      ],
      "text/latex": [
       "\\begin{enumerate*}\n",
       "\\item 0\n",
       "\\item 12\n",
       "\\item 0\n",
       "\\end{enumerate*}\n"
      ],
      "text/markdown": [
       "1. 0\n",
       "2. 12\n",
       "3. 0\n",
       "\n",
       "\n"
      ],
      "text/plain": [
       "[1]  0 12  0"
      ]
     },
     "metadata": {},
     "output_type": "display_data"
    }
   ],
   "source": [
    "b"
   ]
  },
  {
   "cell_type": "code",
   "execution_count": 139,
   "metadata": {},
   "outputs": [
    {
     "data": {
      "text/html": [],
      "text/latex": [],
      "text/markdown": [],
      "text/plain": [
       "integer(0)"
      ]
     },
     "metadata": {},
     "output_type": "display_data"
    }
   ],
   "source": [
    "c<-vector(mode='integer',0)\n",
    "c"
   ]
  },
  {
   "cell_type": "code",
   "execution_count": 140,
   "metadata": {},
   "outputs": [
    {
     "data": {
      "text/html": [
       "'integer'"
      ],
      "text/latex": [
       "'integer'"
      ],
      "text/markdown": [
       "'integer'"
      ],
      "text/plain": [
       "[1] \"integer\""
      ]
     },
     "metadata": {},
     "output_type": "display_data"
    }
   ],
   "source": [
    "typeof(c)"
   ]
  },
  {
   "cell_type": "code",
   "execution_count": 141,
   "metadata": {},
   "outputs": [
    {
     "name": "stdout",
     "output_type": "stream",
     "text": [
      "[1] 3\n"
     ]
    },
    {
     "data": {
      "text/plain": [
       "NULL"
      ]
     },
     "metadata": {},
     "output_type": "display_data"
    }
   ],
   "source": [
    "#Although vectors may appear to be analogous to arrays of one dimension, they are technically dimensionless\n",
    "\n",
    "print(length(b))\n",
    "dim(b)"
   ]
  },
  {
   "cell_type": "markdown",
   "metadata": {},
   "source": [
    "### Descriptive Statistics\n"
   ]
  },
  {
   "cell_type": "code",
   "execution_count": 145,
   "metadata": {},
   "outputs": [],
   "source": [
    "x<-c(2400,3200,1200,100)#area of houses\n",
    "y<-c(100000,250000,89000,5600)#price of house"
   ]
  },
  {
   "cell_type": "code",
   "execution_count": 146,
   "metadata": {},
   "outputs": [
    {
     "data": {
      "text/html": [
       "0.916841006386717"
      ],
      "text/latex": [
       "0.916841006386717"
      ],
      "text/markdown": [
       "0.916841006386717"
      ],
      "text/plain": [
       "[1] 0.916841"
      ]
     },
     "metadata": {},
     "output_type": "display_data"
    }
   ],
   "source": [
    "cor(x,y)"
   ]
  },
  {
   "cell_type": "code",
   "execution_count": null,
   "metadata": {},
   "outputs": [],
   "source": []
  }
 ],
 "metadata": {
  "kernelspec": {
   "display_name": "R",
   "language": "R",
   "name": "ir"
  },
  "language_info": {
   "codemirror_mode": "r",
   "file_extension": ".r",
   "mimetype": "text/x-r-source",
   "name": "R",
   "pygments_lexer": "r",
   "version": "3.4.4"
  }
 },
 "nbformat": 4,
 "nbformat_minor": 2
}
