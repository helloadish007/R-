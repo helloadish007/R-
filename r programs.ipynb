{
 "cells": [
  {
   "cell_type": "markdown",
   "metadata": {},
   "source": [
    "### Write a R program to take input from the user (name and age) and display the values. Also print the version of R installation.\n",
    "\n"
   ]
  },
  {
   "cell_type": "code",
   "execution_count": 1,
   "metadata": {},
   "outputs": [
    {
     "name": "stdout",
     "output_type": "stream",
     "text": [
      "username: ADISH\n",
      "age: 21\n",
      "[1] \"username : ADISH\"\n",
      "[1] \"age : 21\"\n"
     ]
    }
   ],
   "source": [
    "n=readline(prompt='username: ')\n",
    "a=readline(prompt='age: ')\n",
    "print(paste('username :',n))\n",
    "print(paste('age :',a))"
   ]
  },
  {
   "cell_type": "code",
   "execution_count": 2,
   "metadata": {},
   "outputs": [
    {
     "data": {
      "text/html": [
       "'R version 3.4.4 (2018-03-15)'"
      ],
      "text/latex": [
       "'R version 3.4.4 (2018-03-15)'"
      ],
      "text/markdown": [
       "'R version 3.4.4 (2018-03-15)'"
      ],
      "text/plain": [
       "[1] \"R version 3.4.4 (2018-03-15)\""
      ]
     },
     "metadata": {},
     "output_type": "display_data"
    }
   ],
   "source": [
    "R.version.string"
   ]
  },
  {
   "cell_type": "markdown",
   "metadata": {},
   "source": [
    "### Write a R program to get the details of the objects in memory.\n",
    "\n"
   ]
  },
  {
   "cell_type": "code",
   "execution_count": 3,
   "metadata": {},
   "outputs": [
    {
     "name": "stdout",
     "output_type": "stream",
     "text": [
      "[1] \"a\" \"b\" \"c\" \"n\" \"v\"\n",
      "[1] \"object details==>\"\n",
      "a :  chr \"adish\"\n",
      "b :  num 100\n",
      "c :  num 3.1\n",
      "n :  chr \"ADISH\"\n",
      "v :  num [1:3] 10 20 30\n"
     ]
    }
   ],
   "source": [
    "a='adish'\n",
    "b=100\n",
    "c=3.1\n",
    "v=c(10,20,30)\n",
    "print(ls())\n",
    "print('object details==>')\n",
    "print(ls.str())"
   ]
  },
  {
   "cell_type": "markdown",
   "metadata": {},
   "source": [
    "### Write a R program to create a sequence of numbers from 20 to 50 and find the mean of numbers from 20 to 60 and sum of numbers from 51 to 91.\n",
    "\n"
   ]
  },
  {
   "cell_type": "code",
   "execution_count": 4,
   "metadata": {},
   "outputs": [
    {
     "name": "stdout",
     "output_type": "stream",
     "text": [
      "[1] \"seq from 20 to 50\"\n",
      " [1] 20 21 22 23 24 25 26 27 28 29 30 31 32 33 34 35 36 37 38 39 40 41 42 43 44\n",
      "[26] 45 46 47 48 49 50\n",
      "[1] \"mean from 20 to 60\"\n",
      "[1] 40\n",
      "[1] \"sum from 51 to 91\"\n",
      "[1] 2911\n"
     ]
    }
   ],
   "source": [
    "print('seq from 20 to 50')\n",
    "print(20:50)\n",
    "print('mean from 20 to 60')\n",
    "print(mean(20:60))\n",
    "print('sum from 51 to 91')\n",
    "print(sum(51:91))"
   ]
  },
  {
   "cell_type": "markdown",
   "metadata": {},
   "source": [
    "### Write a R program to create a vector which contains 10 random integer values between -50 and +50.\n",
    "\n"
   ]
  },
  {
   "cell_type": "code",
   "execution_count": 5,
   "metadata": {},
   "outputs": [
    {
     "data": {
      "text/html": [
       "<style>\n",
       ".list-inline {list-style: none; margin:0; padding: 0}\n",
       ".list-inline>li {display: inline-block}\n",
       ".list-inline>li:not(:last-child)::after {content: \"\\00b7\"; padding: 0 .5ex}\n",
       "</style>\n",
       "<ol class=list-inline><li>22</li><li>-18</li><li>-37</li><li>39</li><li>46</li><li>-47</li><li>17</li><li>-29</li><li>-10</li><li>-12</li></ol>\n"
      ],
      "text/latex": [
       "\\begin{enumerate*}\n",
       "\\item 22\n",
       "\\item -18\n",
       "\\item -37\n",
       "\\item 39\n",
       "\\item 46\n",
       "\\item -47\n",
       "\\item 17\n",
       "\\item -29\n",
       "\\item -10\n",
       "\\item -12\n",
       "\\end{enumerate*}\n"
      ],
      "text/markdown": [
       "1. 22\n",
       "2. -18\n",
       "3. -37\n",
       "4. 39\n",
       "5. 46\n",
       "6. -47\n",
       "7. 17\n",
       "8. -29\n",
       "9. -10\n",
       "10. -12\n",
       "\n",
       "\n"
      ],
      "text/plain": [
       " [1]  22 -18 -37  39  46 -47  17 -29 -10 -12"
      ]
     },
     "metadata": {},
     "output_type": "display_data"
    }
   ],
   "source": [
    "sample(-50:50,10,replace=FALSE)"
   ]
  },
  {
   "cell_type": "markdown",
   "metadata": {},
   "source": [
    "### Write a R program to get the first 10 Fibonacci numbers.\n",
    "\n"
   ]
  },
  {
   "cell_type": "code",
   "execution_count": 2,
   "metadata": {},
   "outputs": [
    {
     "name": "stdout",
     "output_type": "stream",
     "text": [
      "RANGE:- 2\n",
      "[1] 0\n",
      "[1] 1\n"
     ]
    }
   ],
   "source": [
    "f<-function(n){\n",
    "    if(n==1){\n",
    "        return(0)\n",
    "    }\n",
    "    if(n==2){\n",
    "        return(1)\n",
    "    }else{\n",
    "        return(f(n-1)+f(n-2))\n",
    "    }\n",
    "    \n",
    "}\n",
    "n=readline(prompt='RANGE:- ')\n",
    "if(n<=0){\n",
    "    print('ENTER NUMBER GREATER THAN 0')\n",
    "}\n",
    "for(i in 1:n){\n",
    "    print(f(i))\n",
    "}"
   ]
  },
  {
   "cell_type": "code",
   "execution_count": 6,
   "metadata": {},
   "outputs": [],
   "source": [
    "f<-function(n){\n",
    "    if(n==1){\n",
    "        return(0)\n",
    "    }\n",
    "    if(n==2){\n",
    "        return(1)\n",
    "    }else{\n",
    "        return(f(n-1)+f(n-2))\n",
    "    }\n",
    "    \n",
    "}\n",
    "for (i in 9:19){\n",
    "    f(i)\n",
    "}\n"
   ]
  },
  {
   "cell_type": "code",
   "execution_count": 7,
   "metadata": {},
   "outputs": [
    {
     "data": {
      "text/html": [
       "6"
      ],
      "text/latex": [
       "6"
      ],
      "text/markdown": [
       "6"
      ],
      "text/plain": [
       "[1] 6"
      ]
     },
     "metadata": {},
     "output_type": "display_data"
    }
   ],
   "source": [
    "2+4\n"
   ]
  },
  {
   "cell_type": "code",
   "execution_count": null,
   "metadata": {},
   "outputs": [],
   "source": []
  }
 ],
 "metadata": {
  "kernelspec": {
   "display_name": "R",
   "language": "R",
   "name": "ir"
  },
  "language_info": {
   "codemirror_mode": "r",
   "file_extension": ".r",
   "mimetype": "text/x-r-source",
   "name": "R",
   "pygments_lexer": "r",
   "version": "3.4.4"
  }
 },
 "nbformat": 4,
 "nbformat_minor": 2
}
